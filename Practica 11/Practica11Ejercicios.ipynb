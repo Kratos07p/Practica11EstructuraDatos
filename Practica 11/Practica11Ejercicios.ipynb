{
 "cells": [
  {
   "cell_type": "code",
   "execution_count": null,
   "metadata": {},
   "outputs": [],
   "source": [
    "'''Ejemplos de Modulos, \"math\" '''\n",
    "\n",
    "'''Acceso a elementos de un modulo'''\n",
    "import math as m\n",
    "resultado = m.sqrt(25)\n",
    "\n",
    "print(f\"El resultado es {resultado}\")\n"
   ]
  },
  {
   "cell_type": "code",
   "execution_count": null,
   "metadata": {},
   "outputs": [],
   "source": [
    "'''Importacion selectiva'''\n",
    "from math import sqrt\n",
    "resultado = sqrt(25)\n",
    "\n",
    "print(f\"El resultado es {resultado}\")"
   ]
  },
  {
   "cell_type": "code",
   "execution_count": null,
   "metadata": {},
   "outputs": [],
   "source": [
    "'''Importacion de un modulo creado por mi'''\n",
    "import miModulo as mm\n",
    "\n",
    "name = mm.saludo(\"Pablo\")\n",
    "print(name)"
   ]
  },
  {
   "cell_type": "code",
   "execution_count": null,
   "metadata": {},
   "outputs": [],
   "source": [
    "'''Importacion de una seleccion especifica de mi modulo'''\n",
    "from miModulo import saludo\n",
    "print(saludo(\"Emilio\"))"
   ]
  },
  {
   "cell_type": "code",
   "execution_count": null,
   "metadata": {},
   "outputs": [],
   "source": [
    "'''Crea un módulo llamado \"Calculadora\" que contenga funciones para realizar operaciones\n",
    "matemáticas simples, como suma, resta, multiplicación y división. Luego, en un programa principal,\n",
    "importa el módulo y utiliza estas funciones para realizar cálculos simples.'''\n",
    "import os\n",
    "from time import sleep\n",
    "import calculadora as c\n",
    "def menu():\n",
    "    print(\"\\t.:: Menu ::.\")\n",
    "    print(\"[1] Suma\")\n",
    "    print(\"[2] Resta\")\n",
    "    print(\"[3] Multiplicación\")\n",
    "    print(\"[4] División\")\n",
    "\n",
    "while True:\n",
    "    menu()\n",
    "    opcion = int(input(\"Escriba la opcion que desee realizar\"))\n",
    "\n",
    "    if opcion == 1:\n",
    "        num1 = float(input(\"Digite el primer numero: \"))\n",
    "        num2 = float(input(\"Digite el segundo numero: \"))\n",
    "\n",
    "        suma = c.suma(num1,num2)\n",
    "        print(suma)\n",
    "        sleep(3)\n",
    "\n",
    "    elif opcion == 2:\n",
    "        num1 = float(input(\"Digite el primer numero: \"))\n",
    "        num2 = float(input(\"Digite el segundo numero: \"))\n",
    "\n",
    "        resta = c.resta(num1,num2)\n",
    "        print(resta)\n",
    "        sleep(3)\n",
    "\n",
    "    elif opcion == 3:\n",
    "        num1 = float(input(\"Digite el primer numero: \"))\n",
    "        num2 = float(input(\"Digite el segundo numero: \"))\n",
    "\n",
    "        multiplicacion = c.multiplicacion(num1,num2)\n",
    "        print(multiplicacion)\n",
    "        sleep(3)\n",
    "\n",
    "    elif opcion == 4:\n",
    "        num1 = float(input(\"Digite el primer numero: \"))\n",
    "        num2 = float(input(\"Digite el segundo numero: \"))\n",
    "\n",
    "        division = c.division(num1,num2)\n",
    "        print(division)\n",
    "        sleep(3)\n",
    "\n",
    "    else:\n",
    "        print(\"------Opcion Invalida, Regresando al Menu------\")\n",
    "        sleep(3)"
   ]
  }
 ],
 "metadata": {
  "kernelspec": {
   "display_name": "Python 3",
   "language": "python",
   "name": "python3"
  },
  "language_info": {
   "codemirror_mode": {
    "name": "ipython",
    "version": 3
   },
   "file_extension": ".py",
   "mimetype": "text/x-python",
   "name": "python",
   "nbconvert_exporter": "python",
   "pygments_lexer": "ipython3",
   "version": "3.11.2"
  }
 },
 "nbformat": 4,
 "nbformat_minor": 2
}
