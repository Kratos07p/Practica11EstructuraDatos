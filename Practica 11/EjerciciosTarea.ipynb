{
 "cells": [
  {
   "cell_type": "code",
   "execution_count": null,
   "metadata": {},
   "outputs": [],
   "source": [
    "'''Crea un módulo llamado \"geometría\" que contenga funciones para calcular el área y el\n",
    "perímetro de formas geométricas comunes, como círculos, rectángulos y triángulos. Luego,\n",
    "en un programa principal, importa el módulo y utiliza estas funciones para calcular el área\n",
    "y el perímetro de diferentes formas.'''\n",
    "\n",
    "import geometria as g\n",
    "\n",
    "circulo = g.circulo(5)\n",
    "print(circulo)\n",
    "\n",
    "rectangulo = g.rectangulo(5,10)\n",
    "print(rectangulo)\n",
    "\n",
    "triangulo = g.triangulo(10,10,8,12)\n",
    "print(triangulo)"
   ]
  },
  {
   "cell_type": "code",
   "execution_count": null,
   "metadata": {},
   "outputs": [],
   "source": [
    "'''Crea un módulo llamado \"generador_contraseñas\" que genere contraseñas aleatorias. La\n",
    "función debe aceptar un argumento: la longitud de la contraseña. La contraseña generada\n",
    "debe ser una combinación de letras mayúsculas, letras minúsculas y números.'''\n",
    "\n",
    "from generador_contraseñas import generar_contraseña\n",
    "\n",
    "longitud_contraseña = 10  # Puedes ajustar la longitud según tus necesidades\n",
    "contraseña_generada = generar_contraseña(longitud_contraseña)\n",
    "\n",
    "print(f\"Contraseña generada: {contraseña_generada}\")\n"
   ]
  }
 ],
 "metadata": {
  "kernelspec": {
   "display_name": "Python 3",
   "language": "python",
   "name": "python3"
  },
  "language_info": {
   "codemirror_mode": {
    "name": "ipython",
    "version": 3
   },
   "file_extension": ".py",
   "mimetype": "text/x-python",
   "name": "python",
   "nbconvert_exporter": "python",
   "pygments_lexer": "ipython3",
   "version": "3.11.2"
  }
 },
 "nbformat": 4,
 "nbformat_minor": 2
}
